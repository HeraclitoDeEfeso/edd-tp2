{
 "cells": [
  {
   "cell_type": "code",
   "execution_count": null,
   "metadata": {},
   "outputs": [],
   "source": [
    "#modulo 'Btree'\n",
    "El modulo Btree contiene la implementacion de la clase BTree y la clase Nodo que es utilizada en el Btree\n",
    "\n",
    "## Clase `Btree`\n",
    "La clase Btree permite guardar y consultar eficientemente sobre las palabras encontradas y en que documentos aparecen"
   ]
  },
  {
   "cell_type": "code",
   "execution_count": null,
   "metadata": {
    "scrolled": false,
    "collapsed": false
   },
   "outputs": [
    {
     "data": {
      "text/plain": [
       "<monstruo.Monstruo at 0x1b715ef8ba8>"
      ]
     },
     "execution_count": 2,
     "metadata": {},
     "output_type": "execute_result"
    }
   ],
   "source": [
    "from Btree import BTree\n",
    "a = BTree(3)"
   ]
  },
  {
   "cell_type": "markdown",
   "metadata": {},
   "source": [
    "Un monstruo no puede crearse con dos elementos iguales o sin elementos"
   ]
  },
  {
   "cell_type": "code",
   "execution_count": 3,
   "metadata": {},
   "outputs": [
    {
     "name": "stdout",
     "output_type": "stream",
     "text": [
      "los elementos deben ser diferentes\n"
     ]
    }
   ],
   "source": [
    "try:\n",
    "    error_uno = BTree(1)\n",
    "except valueError as e:\n",
    "        print(e)"
   ]
  },
  {
   "cell_type": "code",
   "execution_count": null,
   "metadata": {
    "collapsed": false
   },
   "outputs": [],
   "source": [
    "try:\n",
    "    error_uno = BTree(-56)\n",
    "except valueError as e:\n",
    "        print(e)"
   ]
  },
  {
   "cell_type": "markdown",
   "metadata": {},
   "source": [
    "## M�todo generar_opciones\n",
    "El m�todo generar_opciones devuelve una lista con los elementos del Monstruo para que la batalla le pueda dar las opciones de ataque al usuario"
   ]
  },
  {
   "cell_type": "code",
   "execution_count": null,
   "metadata": {
    "scrolled": true
   },
   "outputs": [
    {
     "data": {
      "text/plain": [
       "[<Elemento.TIERRA: ('AIRE', 'AGUA')>, <Elemento.FUEGO: ('TIERRA', 'AIRE')>]"
      ]
     },
     "execution_count": 5,
     "metadata": {},
     "output_type": "execute_result"
    }
   ],
   "source": [
    "a.add(\"hola\", 4445)\n",
    "a.add(\"hola\", 4452)\n",
    "a.add(\"b\", 4445)\n",
    "a.add(\"c\", 4452)"
   ]
  },
  {
   "cell_type": "markdown",
   "metadata": {},
   "source": [
    "## M�todo generar_ataque\n",
    "El m�todo generar_ataque crea un ataque con uno de los elementos con los que fue creados y lo devuelve permitiendo que la batalla se lo lanze a otro monstruo"
   ]
  },
  {
   "cell_type": "code",
   "execution_count": 6,
   "metadata": {},
   "outputs": [
    {
     "data": {
      "text/plain": [
       "<ataque.Ataque at 0x1b715e419e8>"
      ]
     },
     "execution_count": 6,
     "metadata": {},
     "output_type": "execute_result"
    }
   ],
   "source": [
    "a.get(\"hola\")"
   ]
  },
  {
   "cell_type": "markdown",
   "metadata": {},
   "source": [
    "Si colocamos un elemento que el monstruo no posee se lanzara un error del que se ocupa la batalla"
   ]
  },
  {
   "cell_type": "code",
   "execution_count": 7,
   "metadata": {
    "scrolled": true
   },
   "outputs": [
    {
     "name": "stdout",
     "output_type": "stream",
     "text": [
      "el monstruo no tiene ese elemento\n"
     ]
    }
   ],
   "source": [
    "a.get_hojas()"
   ]
  },
  {
   "cell_type": "markdown",
   "metadata": {},
   "source": [
    "# M�todo generar_ataque_especial\n",
    "El m�todo generar_ataque_especial crea un ataque especial con uno de los elementos con los que fue creados y lo devuelve permitiendo que la batalla se lo lanze a otro monstruo solo si ataques_especiales_restantes__ es mayor a 0"
   ]
  },
  {
   "cell_type": "code",
   "execution_count": 8,
   "metadata": {},
   "outputs": [
    {
     "data": {
      "text/plain": [
       "<ataque.Ataque_especial at 0x1b715e41c88>"
      ]
     },
     "execution_count": 8,
     "metadata": {},
     "output_type": "execute_result"
    }
   ],
   "source": [
    "a.__imprimir_arbol()"
   ]
  },
  {
   "cell_type": "code",
   "execution_count": 14,
   "metadata": {},
   "outputs": [],
   "source": [
    ""
   ]
  },
  {
   "cell_type": "markdown",
   "metadata": {},
   "source": [
    "# Clase Nodo\n",
    "El Nodo es un elemento del arbol, cuenta con metodos que hacen posible el funcionamiento del Btree como el split, agregar_key, agregar_hijo y ademas posee listas que permiten enlazar el arbol y almacenar informacion.\n",
    "Al igual que el arbol los nodos tienen un \"orden\" que es utilizado por la propiedad _is_full para asi saber cuando hacer un split \n",
    "Los parametros de iniciacion del nodo son el orden, y un booleano que indica si es una hoja o no que puede omitirse(de hacerlo se considera una hoja)"
   ]
  },
  {
   "cell_type": "code",
   "execution_count": 17,
   "metadata": {},
   "outputs": [
    {
     "name": "stdout",
     "output_type": "stream",
     "text": [
      "90\n"
     ]
    }
   ],
   "source": [
    "mi_hoja = Nodo(4)\n",
    "mi_nodo_interno = Nodo(4,False)\n",
    "\n",
    "mi_hoja._is_full()\n"
   ]
  },
  {
   "cell_type": "code",
   "execution_count": 18,
   "metadata": {},
   "outputs": [
    {
     "name": "stdout",
     "output_type": "stream",
     "text": [
      "85\n"
     ]
    }
   ],
   "source": [
    "mi_hoja.is_hoja()\n",
    "mi_nodo_interno.is_hoja()"
   ]
  }
 ],
 "metadata": {
  "kernelspec": {
   "display_name": "Python 3",
   "language": "python",
   "name": "python3"
  },
  "language_info": {
   "codemirror_mode": {
    "name": "ipython",
    "version": 3
   },
   "file_extension": ".py",
   "mimetype": "text/x-python",
   "name": "python",
   "nbconvert_exporter": "python",
   "pygments_lexer": "ipython3",
   "version": "3.6.5"
  }
 },
 "nbformat": 4,
 "nbformat_minor": 2
}
