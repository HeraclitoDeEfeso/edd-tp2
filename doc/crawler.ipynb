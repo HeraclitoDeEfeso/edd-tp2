{
 "cells": [
  {
   "cell_type": "markdown",
   "metadata": {
    "collapsed": true
   },
   "source": [
    "# Módulo `crawler`\n",
    "Éste módulo contiene la implementación de la clase `Crawler`, la que será encargada de recorrer\n",
    "las páginas y entregar su contenido a una instancia de la clase `Control` para su \n",
    "procesamiento. \n",
    "## Constructor\n",
    "Para crear un `Cawler` es necesario un lista de `dominios` que\n",
    "compongan su frontera y un `control` al que le pase la páginas\n",
    "que deben ser procesadas, un nombre del archivo de `log` donde\n",
    "persistirá sus actividades y un tiempo mínimo `tmin` de milisegundos\n",
    "entre peticiones de página a un mismo servidor web."
   ]
  },
  {
   "cell_type": "code",
   "execution_count": 5,
   "metadata": {},
   "outputs": [],
   "source": [
    "%cd -q ..\n",
    "from buscador.crawler import Crawler\n",
    "from buscador.inverted_index import Control\n",
    "mi_crawler = Crawler(Control(),[\"http://www.google.com\"],\"log.txt\",1000)"
   ]
  },
  {
   "cell_type": "markdown",
   "metadata": {},
   "source": [
    "## Método `iniciar()`\n",
    "Es el método que inicia la labor del `Crawler` o la continúa después de haber sido detenido. \n",
    "Puesto el trabajo del `Crawler` puede extenderse en el tiempo, maneja la posibilidad de \n",
    "suspender su ejecución presionando `<CONTROL>-C`."
   ]
  }
 ],
 "metadata": {
  "kernelspec": {
   "display_name": "Python 2",
   "language": "python",
   "name": "python2"
  },
  "language_info": {
   "codemirror_mode": {
    "name": "ipython",
    "version": 2
   },
   "file_extension": ".py",
   "mimetype": "text/x-python",
   "name": "python",
   "nbconvert_exporter": "python",
   "pygments_lexer": "ipython2",
   "version": "2.7.6"
  }
 },
 "nbformat": 4,
 "nbformat_minor": 0
}
