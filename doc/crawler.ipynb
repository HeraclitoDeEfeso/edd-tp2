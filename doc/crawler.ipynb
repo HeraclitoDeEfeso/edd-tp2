{
 "cells": [
  {
   "cell_type": "markdown",
   "metadata": {},
   "source": [
    "# Módulo `crawler.py`\n",
    "La clase `Crawler` representa el robot que busca recursivamente los enlaces en las páginas dentro de la frontera de dominios asignada.\n",
    "## Constructor\n",
    "Para crear un `Cawler` es necesario un lista de `dominios` que\n",
    "compongan su frontera y un `control` al que le pase la páginas\n",
    "que deben ser procesadas, un nombre del archivo de `log` donde\n",
    "persistirá sus actividades y un tiempo mínimo `tmin` de milisegundos\n",
    "entre peticiones de página a un mismo servidor web."
   ]
  },
  {
   "cell_type": "code",
   "execution_count": 27,
   "metadata": {},
   "outputs": [],
   "source": [
    "%cd -q ..\n",
    "from buscador.crawler import Crawler\n",
    "from buscador.inverted_index import Control\n",
    "mi_crawler = Crawler(Control(),[\"http://www.google.com\"],\"log.txt\",1000)"
   ]
  },
  {
   "cell_type": "markdown",
   "metadata": {},
   "source": [
    "## Método `iniciar()`\n",
    "Es el método que inicia la labor del `Crawler` o la continúa después de haber sido detenido. \n",
    "Puesto el trabajo del `Crawler` puede extenderse en el tiempo, maneja la posibilidad de \n",
    "suspender su ejecución presionando `<CONTROL>-C`."
   ]
  },
  {
   "cell_type": "markdown",
   "metadata": {},
   "source": [
    "    mi_crawler.iniciar()"
   ]
  },
  {
   "cell_type": "markdown",
   "metadata": {},
   "source": [
    "## Métodos `direccion_en_frontera()` y `direccion_procesada`\n",
    "Éstos son métodos de funcionalidad interna al `Crawler` y tienen por función devolver un valor booleano indicando si\n",
    "las direcciones que se pasan por parámetro pertenecen a la frontera determinada por los `dominios` y si la dirección ya ha sido visitada y procesado su contenido por el `Control`"
   ]
  },
  {
   "cell_type": "code",
   "execution_count": 28,
   "metadata": {},
   "outputs": [
    {
     "data": {
      "text/plain": [
       "True"
      ]
     },
     "execution_count": 28,
     "metadata": {},
     "output_type": "execute_result"
    }
   ],
   "source": [
    "mi_crawler.direccion_en_frontera(\"http://www.google.com\")"
   ]
  },
  {
   "cell_type": "markdown",
   "metadata": {},
   "source": [
    "## Métodos `__getstate__()` y `__setstate__()`\n",
    "Éstos métodos son parte del protocolo del módulo standar `pickle` a los efectos de persistir el `Crawler` en caso de salir de la aplicación."
   ]
  },
  {
   "cell_type": "markdown",
   "metadata": {},
   "source": [
    "## Método `__salir__()`\n",
    "Éste método se utiliza como manejador de la señal del sistema `SIGINT` para retener el control y suspender el funcionamiento del `Crawler`"
   ]
  }
 ],
 "metadata": {
  "kernelspec": {
   "display_name": "Python 3",
   "language": "python",
   "name": "python3"
  },
  "language_info": {
   "codemirror_mode": {
    "name": "ipython",
    "version": 3
   },
   "file_extension": ".py",
   "mimetype": "text/x-python",
   "name": "python",
   "nbconvert_exporter": "python",
   "pygments_lexer": "ipython3",
   "version": "3.7.0"
  }
 },
 "nbformat": 4,
 "nbformat_minor": 1
}
