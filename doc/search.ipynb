{
 "cells": [
  {
   "cell_type": "markdown",
   "metadata": {},
   "source": [
    "# Módulo `search`\n",
    "El módulo `search` contiene la implementación de la clase `Buscador` la cual expone una interfaz de alto nivel para desarrollar las consultas sobre lista de apariciones de las palabras que el `Tokenizer` ha delimitado en los documentos rastreados por el `Crawler` y entregados al `Control` para ser almacenados por los `Indexer`.\n",
    "## Clase `Buscador`\n",
    "Un `Buscador` precisa para su creación una referencia al `Control` que dirigirá el procesamiento de documentos y su posterior almacenamiento en los `Indexer`"
   ]
  },
  {
   "cell_type": "code",
   "execution_count": 1,
   "metadata": {},
   "outputs": [],
   "source": [
    "%cd -q ..\n",
    "from buscador.search import Buscador\n",
    "from buscador.inverted_index import Control\n",
    "mi_control = Control()\n",
    "mi_buscador = Buscador(mi_control)"
   ]
  },
  {
   "cell_type": "markdown",
   "metadata": {},
   "source": [
    "### Método `buscar()`\n",
    "El método `buscar` expone una interfaz de alto nivel para el proceso de búsqueda de listas de apariciones de palabras en documentos. Se le debe pasar por parámetro un patrón de palabras el cual puede contener hasta un asterisco como comodín en el principio, medio o final del patrón. Se retorna un set de enteros identificadores de documentos. "
   ]
  },
  {
   "cell_type": "code",
   "execution_count": 2,
   "metadata": {},
   "outputs": [
    {
     "name": "stdout",
     "output_type": "stream",
     "text": [
      "Resultado del patrón 'c*': {0, 1}\n",
      "Resultado del patrón '*cion': {1, 2}\n",
      "Resultado del patrón 'c*tor': {0}\n"
     ]
    }
   ],
   "source": [
    "mi_control.procesar_documento(\"doc1\", \"cantor trotar\")\n",
    "mi_control.procesar_documento(\"doc2\", \"chatarra canción\")\n",
    "mi_control.procesar_documento(\"doc3\", \"ocación\")\n",
    "patrones = [\"c*\", \"*cion\", \"c*tor\"]\n",
    "resultados = [mi_buscador.buscar(patron) for patron in patrones]\n",
    "for indice, resultado in enumerate(resultados):\n",
    "    print(\"Resultado del patrón '%s': %s\" % (patrones[indice], resultado))"
   ]
  },
  {
   "cell_type": "markdown",
   "metadata": {},
   "source": [
    "El `Control` es el encargado de mantener un índice central que relaciona identificadores con direcciones de documentos."
   ]
  },
  {
   "cell_type": "code",
   "execution_count": 3,
   "metadata": {},
   "outputs": [
    {
     "name": "stdout",
     "output_type": "stream",
     "text": [
      "Resultado del patrón 'c*': ['doc1', 'doc2']\n",
      "Resultado del patrón '*cion': ['doc2', 'doc3']\n",
      "Resultado del patrón 'c*tor': ['doc1']\n"
     ]
    }
   ],
   "source": [
    "resultados_direcciones = [[mi_control.documentos[indice] for indice in resultado] for resultado in resultados]\n",
    "for indice, direcciones in enumerate(resultados_direcciones):\n",
    "    print(\"Resultado del patrón '%s': %s\" % (patrones[indice], direcciones))"
   ]
  },
  {
   "cell_type": "markdown",
   "metadata": {},
   "source": [
    "### Métodos `interpreta_patron()` y `buscar_por_patron()`\n",
    "El método `interpreta_patron()` devuelve una estructura en tupla que luego será utilizada por el método `buscar_por_patron()` para encontrar todas las palabras almacenadas en los índices que cumplan con el patrón."
   ]
  },
  {
   "cell_type": "code",
   "execution_count": 4,
   "metadata": {},
   "outputs": [
    {
     "name": "stdout",
     "output_type": "stream",
     "text": [
      "El patrón 'c*' se corresponde a la tupla: ('c', '*', '')\n",
      "El patrón '*cion' se corresponde a la tupla: ('', '*', 'cion')\n",
      "El patrón 'c*tor' se corresponde a la tupla: ('c', '*', 'tor')\n"
     ]
    }
   ],
   "source": [
    "for patron in patrones:\n",
    "    print(\"El patrón '%s' se corresponde a la tupla: %s\" % (patron, mi_buscador.interpreta_patron(patron)))"
   ]
  },
  {
   "cell_type": "code",
   "execution_count": 5,
   "metadata": {},
   "outputs": [
    {
     "name": "stdout",
     "output_type": "stream",
     "text": [
      "El patrón 'c*' se corresponde a las claves del índice: ['cancion', 'cantor', 'chatarra']\n",
      "El patrón '*cion' se corresponde a las claves del índice: ['ocacion', 'cancion']\n",
      "El patrón 'c*tor' se corresponde a las claves del índice: ['cantor']\n"
     ]
    }
   ],
   "source": [
    "for patron in patrones:\n",
    "    print(\"El patrón '%s' se corresponde a las claves del índice: %s\" \n",
    "          % (patron, mi_buscador.buscar_por_patron(mi_buscador.interpreta_patron(patron))))"
   ]
  },
  {
   "cell_type": "markdown",
   "metadata": {},
   "source": [
    "### Métodos `buscar_palabras()` y `buscar_palabras_reversas()`\n",
    "Los métodos `buscar_palabras()` y `buscar_palabras_reversas()` son los utilizados por el método `buscar_por_patron()` para obtener las claves almacenadas en los `Indexer`. Ambas utilizan una palabra inicial inclusiva y otra final exclusiva para delimitar las claves almacenadas en un determinado rango alfabético."
   ]
  },
  {
   "cell_type": "code",
   "execution_count": 6,
   "metadata": {},
   "outputs": [
    {
     "data": {
      "text/plain": [
       "['chatarra', 'ocacion']"
      ]
     },
     "execution_count": 6,
     "metadata": {},
     "output_type": "execute_result"
    }
   ],
   "source": [
    "mi_buscador.buscar_palabras(\"ch\",\"t\")"
   ]
  },
  {
   "cell_type": "markdown",
   "metadata": {},
   "source": [
    "### Método `buscar_documentos()`\n",
    "Este método es el utilizado por el método `buscar()` para obtener de los índices que mantiene el `Control`, la lista de identificadores de documentos en los que aparece la palabra pasada por parámetro."
   ]
  },
  {
   "cell_type": "code",
   "execution_count": 7,
   "metadata": {},
   "outputs": [
    {
     "data": {
      "text/plain": [
       "[1]"
      ]
     },
     "execution_count": 7,
     "metadata": {},
     "output_type": "execute_result"
    }
   ],
   "source": [
    "mi_buscador.buscar_documentos(\"chatarra\")"
   ]
  },
  {
   "cell_type": "markdown",
   "metadata": {},
   "source": [
    "### Métodos `busqueda_conjuntiva()`, `busqueda_disjuntiva()` y `busqueda_negativa()`\n",
    "Éstos métodos son métodos de agregación para simplificar las búsquedas iterativas sobre varios patrones."
   ]
  },
  {
   "cell_type": "code",
   "execution_count": 8,
   "metadata": {},
   "outputs": [
    {
     "name": "stdout",
     "output_type": "stream",
     "text": [
      "doc1\n"
     ]
    }
   ],
   "source": [
    "for indice in mi_buscador.busqueda_negativa(\"*cion\", mi_buscador.buscar(\"c*\")):\n",
    "    print(mi_control.documentos[indice])"
   ]
  }
 ],
 "metadata": {
  "kernelspec": {
   "display_name": "Python 3",
   "language": "python",
   "name": "python3"
  },
  "language_info": {
   "codemirror_mode": {
    "name": "ipython",
    "version": 3
   },
   "file_extension": ".py",
   "mimetype": "text/x-python",
   "name": "python",
   "nbconvert_exporter": "python",
   "pygments_lexer": "ipython3",
   "version": "3.7.0"
  }
 },
 "nbformat": 4,
 "nbformat_minor": 2
}
