{
 "cells": [
  {
   "cell_type": "markdown",
   "metadata": {},
   "source": [
    "# modulo 'Btree'\n",
    "El modulo Btree contiene la implementacion de la clase BTree y la clase Nodo que es utilizada en el Btree\n",
    "\n",
    "## Clase 'Btree'\n",
    "La clase Btree permite guardar y consultar eficientemente sobre las palabras encontradas y en que documentos aparecen"
   ]
  },
  {
   "cell_type": "code",
   "execution_count": 2,
   "metadata": {},
   "outputs": [
    {
     "data": {
      "text/plain": [
       "<Btree.BTree at 0x1fd0806cac8>"
      ]
     },
     "execution_count": 2,
     "metadata": {},
     "output_type": "execute_result"
    }
   ],
   "source": [
    "from Btree import BTree\n",
    "a = BTree(3)\n",
    "a         "
   ]
  },
  {
   "cell_type": "markdown",
   "metadata": {},
   "source": [
    "Un monstruo no puede crearse con dos elementos iguales o sin elementos"
   ]
  },
  {
   "cell_type": "code",
   "execution_count": 3,
   "metadata": {},
   "outputs": [
    {
     "name": "stdout",
     "output_type": "stream",
     "text": [
      "El orden del arbol debe ser 2 o superior\n"
     ]
    }
   ],
   "source": [
    "try:\n",
    "    error_uno = BTree(1)\n",
    "except ValueError as e:\n",
    "        print(e)"
   ]
  },
  {
   "cell_type": "markdown",
   "metadata": {},
   "source": [
    "## Metodo add\n",
    "El metodo add agrega una palabra en el arbol con el docoumento en el que aparece, is la palabra ya existe, solo agrega el documento a la lista de aparicion.\n",
    "indicando por parametros : palabra, documento"
   ]
  },
  {
   "cell_type": "code",
   "execution_count": 13,
   "metadata": {},
   "outputs": [],
   "source": [
    "a.add(\"hola\", 4445)\n",
    "a.add(\"hola\", 4452)\n",
    "a.add(\"b\", 4445)\n",
    "a.add(\"c\", 4452)"
   ]
  },
  {
   "cell_type": "markdown",
   "metadata": {},
   "source": [
    "## Metodo get\n",
    "El metodo get devuelve la lista de aparicion de la palabra indicada en su paramtro"
   ]
  },
  {
   "cell_type": "code",
   "execution_count": 5,
   "metadata": {},
   "outputs": [
    {
     "data": {
      "text/plain": [
       "[4445, 4452]"
      ]
     },
     "execution_count": 5,
     "metadata": {},
     "output_type": "execute_result"
    }
   ],
   "source": [
    "a.get(\"hola\")"
   ]
  },
  {
   "cell_type": "markdown",
   "metadata": {},
   "source": [
    "#si la palabra no existe devuelve un el mensaje de un ValueError que indica que esa palabra no esta"
   ]
  },
  {
   "cell_type": "code",
   "execution_count": 6,
   "metadata": {},
   "outputs": [
    {
     "data": {
      "text/plain": [
       "ValueError(\"'ola' is not in list\")"
      ]
     },
     "execution_count": 6,
     "metadata": {},
     "output_type": "execute_result"
    }
   ],
   "source": [
    "a.get(\"ola\")"
   ]
  },
  {
   "cell_type": "markdown",
   "metadata": {},
   "source": [
    "## Metodo get_hojas\n",
    "El metodo get_hojas devuelve la lista de hojas dentro de otra lista que me sirve para tener al alcanze todas las palabras\n",
    "que hay en el arbol hasta el momento"
   ]
  },
  {
   "cell_type": "code",
   "execution_count": 7,
   "metadata": {},
   "outputs": [
    {
     "data": {
      "text/plain": [
       "[['b', 'c', 'hola']]"
      ]
     },
     "execution_count": 7,
     "metadata": {},
     "output_type": "execute_result"
    }
   ],
   "source": [
    "a.get_hojas()"
   ]
  },
  {
   "cell_type": "markdown",
   "metadata": {},
   "source": [
    "## Metodo _imprimir_arbol\n",
    "El metodo __imprimir_arbol es un metodo oculto que no tiene otra funcionalidad que crear una representacion visual del arbol apartir de listas para facilitar su interpretacion\n"
   ]
  },
  {
   "cell_type": "code",
   "execution_count": 8,
   "metadata": {},
   "outputs": [
    {
     "name": "stdout",
     "output_type": "stream",
     "text": [
      "['b', 'c', 'hola'] \n"
     ]
    }
   ],
   "source": [
    "a._imprimir_arbol()"
   ]
  },
  {
   "cell_type": "markdown",
   "metadata": {},
   "source": [
    "## Metodo get_Slice\n",
    "El metodo get_Slice devuelve un particion con las keys que se encuentran dentro sus dos parametros, el primero que es el inicio se encuentra incluido y el segundo no al igual que range()"
   ]
  },
  {
   "cell_type": "code",
   "execution_count": 12,
   "metadata": {},
   "outputs": [
    {
     "data": {
      "text/plain": [
       "['ave', 'hola', 'hormiga']"
      ]
     },
     "execution_count": 12,
     "metadata": {},
     "output_type": "execute_result"
    }
   ],
   "source": [
    "b = BTree(3)\n",
    "b.add(\"hola\", 4445)\n",
    "b.add(\"hormiga\", 4452)\n",
    "b.add(\"ave\", 4445)\n",
    "b.add(\"zorro\", 4452)\n",
    "b.get_Slice(\"ave\",\"zorro\")"
   ]
  },
  {
   "cell_type": "markdown",
   "metadata": {},
   "source": [
    "## Clase Nodo\n",
    "La clase nodo permite construir los elementos que componen el BTree, esta esta compuesta por listas que contienen las keys y los enlaces con otros nodos y las listas de aparicion, cuentan con el metodo split,add_key,add_hijo y se contruyen con un orden que limita las keys y otro parametro opcional que indicara si es una hoja o un nodo interno(hoja viene por defecto)"
   ]
  }
 ],
 "metadata": {
  "kernelspec": {
   "display_name": "Python 3",
   "language": "python",
   "name": "python3"
  },
  "language_info": {
   "codemirror_mode": {
    "name": "ipython",
    "version": 3
   },
   "file_extension": ".py",
   "mimetype": "text/x-python",
   "name": "python",
   "nbconvert_exporter": "python",
   "pygments_lexer": "ipython3",
   "version": "3.6.5"
  }
 },
 "nbformat": 4,
 "nbformat_minor": 2
}
