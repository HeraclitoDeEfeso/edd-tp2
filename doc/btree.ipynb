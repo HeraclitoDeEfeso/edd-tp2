{
 "cells": [
  {
   "cell_type": "markdown",
   "metadata": {},
   "source": [
    "# Módulo `btree`\n",
    "El módulo `btree` contiene la implementacion de la clase `BTree` y su clase interna `Nodo`. Representa un Arbol B+ (todos los datos se encuentran en las hojas).\n",
    "\n",
    "## Clase `Btree`\n",
    "La clase `BTree` permite guardar y consultar eficientemente sobre las palabras encontradas y en qué documentos aparecen. Un árbol se crea con un orden, el cual debe ser igual o mayor a 2."
   ]
  },
  {
   "cell_type": "code",
   "execution_count": 14,
   "metadata": {},
   "outputs": [
    {
     "data": {
      "text/plain": [
       "<buscador.btree.BTree at 0x5b7de10>"
      ]
     },
     "execution_count": 14,
     "metadata": {},
     "output_type": "execute_result"
    }
   ],
   "source": [
    "%cd -q ..\n",
    "from buscador.btree import BTree\n",
    "a = BTree(3)\n",
    "a         "
   ]
  },
  {
   "cell_type": "code",
   "execution_count": 15,
   "metadata": {},
   "outputs": [
    {
     "name": "stdout",
     "output_type": "stream",
     "text": [
      "El orden del arbol debe ser 2 o superior\n"
     ]
    }
   ],
   "source": [
    "try:\n",
    "    BTree(1)\n",
    "except ValueError as e:\n",
    "    print(e)"
   ]
  },
  {
   "cell_type": "markdown",
   "metadata": {},
   "source": [
    "### Método `add`\n",
    "El método `add` agrega una palabra en el árbol con una referencia al documento en el cual aparece. Si la palabra ya existe, sólo agrega el documento a la lista de apariciones."
   ]
  },
  {
   "cell_type": "code",
   "execution_count": 16,
   "metadata": {},
   "outputs": [],
   "source": [
    "a.add(\"hola\", 4445)\n",
    "a.add(\"hola\", 4452)\n",
    "a.add(\"b\", 4445)\n",
    "a.add(\"c\", 4452)"
   ]
  },
  {
   "cell_type": "markdown",
   "metadata": {},
   "source": [
    "### Método `get`\n",
    "El método `get` devuelve la lista de aparición de la palabra pasada por parámetro. Si la palabra no existe devuelve un `ValueError` cuyo mensaje indica cual palabra no se encuentra.  "
   ]
  },
  {
   "cell_type": "code",
   "execution_count": 17,
   "metadata": {},
   "outputs": [
    {
     "data": {
      "text/plain": [
       "[4445, 4452]"
      ]
     },
     "execution_count": 17,
     "metadata": {},
     "output_type": "execute_result"
    }
   ],
   "source": [
    "a.get(\"hola\")"
   ]
  },
  {
   "cell_type": "code",
   "execution_count": 18,
   "metadata": {},
   "outputs": [
    {
     "data": {
      "text/plain": [
       "ValueError(\"'ola' is not in list\")"
      ]
     },
     "execution_count": 18,
     "metadata": {},
     "output_type": "execute_result"
    }
   ],
   "source": [
    "a.get(\"ola\")"
   ]
  },
  {
   "cell_type": "markdown",
   "metadata": {},
   "source": [
    "### Método `get_hojas`\n",
    "El método `get_hojas` devuelve la lista de hojas dentro de otra lista que me sirve para tener al alcanze todas las palabras\n",
    "que hay en el árbol hasta el momento"
   ]
  },
  {
   "cell_type": "code",
   "execution_count": 19,
   "metadata": {},
   "outputs": [
    {
     "data": {
      "text/plain": [
       "[['b', 'c', 'hola']]"
      ]
     },
     "execution_count": 19,
     "metadata": {},
     "output_type": "execute_result"
    }
   ],
   "source": [
    "a.get_hojas()"
   ]
  },
  {
   "cell_type": "markdown",
   "metadata": {},
   "source": [
    "### Método `__imprimir_arbol`\n",
    "El método `__imprimir_arbol` es un método oculto que no tiene otra funcionalidad que crear una representacién visual del árbol apartir de listas para facilitar su interpretación.\n"
   ]
  },
  {
   "cell_type": "code",
   "execution_count": 20,
   "metadata": {},
   "outputs": [
    {
     "name": "stdout",
     "output_type": "stream",
     "text": [
      "['b', 'c', 'hola'] \n"
     ]
    }
   ],
   "source": [
    "a._imprimir_arbol()"
   ]
  },
  {
   "cell_type": "markdown",
   "metadata": {},
   "source": [
    "### Método `get_Slice`\n",
    "El método `get_Slice` devuelve una lista con las keys que se encuentran dentro sus dos parámetros. El primero es el inicio y se encuentra incluido; el segundo es el final y no está incluido, al igual que con la función `range()`"
   ]
  },
  {
   "cell_type": "code",
   "execution_count": 21,
   "metadata": {},
   "outputs": [
    {
     "data": {
      "text/plain": [
       "['ave', 'hola', 'hormiga']"
      ]
     },
     "execution_count": 21,
     "metadata": {},
     "output_type": "execute_result"
    }
   ],
   "source": [
    "b = BTree(3)\n",
    "b.add(\"hola\", 4445)\n",
    "b.add(\"hormiga\", 4452)\n",
    "b.add(\"ave\", 4445)\n",
    "b.add(\"zorro\", 4452)\n",
    "b.get_Slice(\"ave\",\"zorro\")"
   ]
  },
  {
   "cell_type": "markdown",
   "metadata": {},
   "source": [
    "## Clase Nodo\n",
    "La clase interna `Nodo` permite construir los elementos que componen el `BTree`. Está compuesta por listas que contienen las keys y los enlaces a otros nodos. En las hojas, los enlaces apuntan a las listas de aparicion. Cuentan con los métodos `split`, `add_key` y `add_hijo`. El constructor recibe por prámetros un en entero que indica el orden del árbol y un booleano que define si es un nodo hoja o un nodo de claves."
   ]
  }
 ],
 "metadata": {
  "kernelspec": {
   "display_name": "Python 3",
   "language": "python",
   "name": "python3"
  },
  "language_info": {
   "codemirror_mode": {
    "name": "ipython",
    "version": 3
   },
   "file_extension": ".py",
   "mimetype": "text/x-python",
   "name": "python",
   "nbconvert_exporter": "python",
   "pygments_lexer": "ipython3",
   "version": "3.7.0"
  }
 },
 "nbformat": 4,
 "nbformat_minor": 2
}
